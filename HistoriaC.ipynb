{
  "nbformat": 4,
  "nbformat_minor": 0,
  "metadata": {
    "colab": {
      "provenance": [],
      "authorship_tag": "ABX9TyPWTUIR8hKRSsuRt0Jsle9x",
      "include_colab_link": true
    },
    "kernelspec": {
      "name": "python3",
      "display_name": "Python 3"
    },
    "language_info": {
      "name": "python"
    }
  },
  "cells": [
    {
      "cell_type": "markdown",
      "metadata": {
        "id": "view-in-github",
        "colab_type": "text"
      },
      "source": [
        "<a href=\"https://colab.research.google.com/github/oBrunoz/paradigma-procedural-PLP/blob/main/HistoriaC.ipynb\" target=\"_parent\"><img src=\"https://colab.research.google.com/assets/colab-badge.svg\" alt=\"Open In Colab\"/></a>"
      ]
    },
    {
      "cell_type": "markdown",
      "source": [
        "#História do C"
      ],
      "metadata": {
        "id": "NxB5Q571ud3N"
      }
    },
    {
      "cell_type": "code",
      "source": [],
      "metadata": {
        "id": "CVuEfJpYK-ug"
      },
      "execution_count": null,
      "outputs": []
    },
    {
      "cell_type": "markdown",
      "source": [
        "Em 1972 foi criada a primeira versão do C por Dennis Ritchie com o objetivo de ser distribuido junto com o o SO Unix do PDP-11.\n",
        "\n",
        "O início do C foi com a linguagem ALGOL 60, ela tinha o propósito de ser uma linguagem de alto nivel,sem que precise se preocupar com cada comando ou como os dados eram processados, e substituir o FORTRAN, porém graças aos sistemas operacionais da época, que exigiam grande conhecimento de hardware, a linguagem não foi bem aceita."
      ],
      "metadata": {
        "id": "_jbldeEcumWy"
      }
    },
    {
      "cell_type": "markdown",
      "source": [
        "Em 1967 foi criado o CPL (Combined Programming Language), com a ideia de fazer algo parecido com o ALGOL, porém também não foi bem aceita, pois a consideravam difícil de implementar.\n",
        "\n",
        "Ainda em 1967, Martin Richards criou o BCPL (Basic CPL), uma versão simplificada, que tentava manter as coisas boas do CPL.\n",
        "\n",
        "Em 1970, Ken Thompson, implementou um compilador para uma versão reduzida do CPL, que batizou de B.\n",
        "\n",
        "Graças a alguns problemas do B, como a sua velocidade, que não era suficiente para alguns projeots da época, foi feito uma linguagem sucessora do B, o C.\n",
        "\n",
        "O C, como já sabem, foi uma tentiva muito bem sucedida, já que graças a sua portabilidade, os programas poderiam rodar em diferentes computadores sem precisar ter um alto custo a cada vez que for feito.\n",
        "\n",
        "O sucesso foi tanto que em 1985, o ANSI (American National Standards Institute) estabeleceu um padrão oficial de C, o \"C ANSI\"."
      ],
      "metadata": {
        "id": "g73cx2uuGDTz"
      }
    },
    {
      "cell_type": "markdown",
      "source": [
        "#Versões do C"
      ],
      "metadata": {
        "id": "VTIFEN1ooT0E"
      }
    },
    {
      "cell_type": "markdown",
      "source": [
        "###C K&R"
      ],
      "metadata": {
        "id": "9KwXE9rvoXSB"
      }
    },
    {
      "cell_type": "markdown",
      "source": [
        "Essa versão do C é a que foi apresentada no livro \"The C Programming Language\", em que apresentava novos tipos de dados e algumas alterações na sintáxe, de \"=+\" para \"+=\"."
      ],
      "metadata": {
        "id": "8Ta6TtFQoo3X"
      }
    },
    {
      "cell_type": "markdown",
      "source": [
        "###C99"
      ],
      "metadata": {
        "id": "h76cb0sXqGh_"
      }
    },
    {
      "cell_type": "markdown",
      "source": [
        "Essa versão foi criada em 1999, graças a popularização do C++ e a falta de atualizações no C, foram adicionados tipos de dados novos, como o long long int, e foram adicionadas algumas semelhanças ao C++, como o uso de \"//\" para comentários e remoção de restrições sobre a localização da declaração de variáveis."
      ],
      "metadata": {
        "id": "m-2k-RXTqYmL"
      }
    },
    {
      "cell_type": "markdown",
      "source": [
        "### C11"
      ],
      "metadata": {
        "id": "_MekpCg5rv9j"
      }
    },
    {
      "cell_type": "markdown",
      "source": [
        "Em dezembro de 2011, essa versão foi lançada e o comitê de padrões de C resolveu adicionar um conjunto de regras para limitar a inserção de funcionalidades não testadas."
      ],
      "metadata": {
        "id": "fGQbAqpxryFf"
      }
    },
    {
      "cell_type": "markdown",
      "source": [
        "###C17"
      ],
      "metadata": {
        "id": "ZwDv2ki7sRnH"
      }
    },
    {
      "cell_type": "markdown",
      "source": [
        "Em 2017 essa versão teve como objetivo melhorar a revisão de funcionalidades não testadas, substituindo o C11."
      ],
      "metadata": {
        "id": "eVsFOtdmsiUS"
      }
    },
    {
      "cell_type": "markdown",
      "source": [
        "#Características do C"
      ],
      "metadata": {
        "id": "De6o5ekKur7t"
      }
    },
    {
      "cell_type": "markdown",
      "source": [
        "##Simplicidade e Eficiência"
      ],
      "metadata": {
        "id": "HNPoqA9Hwv1_"
      }
    },
    {
      "cell_type": "markdown",
      "source": [
        "O C, comparado com as outras linguagens da época, é uma linguagem simples, pois não precisa saber como cada função ou variável funciona exatamente, mas ainda proporciona uma grande velocidade de processamento."
      ],
      "metadata": {
        "id": "RRRtO1PZxMXt"
      }
    },
    {
      "cell_type": "markdown",
      "source": [
        "##Portabilidade\n"
      ],
      "metadata": {
        "id": "soF3sGibx55q"
      }
    },
    {
      "cell_type": "markdown",
      "source": [
        "Por não ser feito para um hardware específico, o C consegue ter uma grande portabilidade, ou seja, rodar em qualquer computador que o suporte, sem precisar alterar nenhuma linha de código"
      ],
      "metadata": {
        "id": "BRYB29oWx9ae"
      }
    },
    {
      "cell_type": "markdown",
      "source": [
        "##Controle direto de memória"
      ],
      "metadata": {
        "id": "M8NZK59NzYwu"
      }
    },
    {
      "cell_type": "markdown",
      "source": [
        "Em C, a maior parte do gerenciamento ainda é feito manualmente, como a quantidade de memória exigida para uma lista, o que pode ser bastante trabalhoso e perigoso se não for bem utilizado, mas também pode possibilitar mais otimizações para profissionais mais experientes"
      ],
      "metadata": {
        "id": "nc4qG3WDzbis"
      }
    },
    {
      "cell_type": "markdown",
      "source": [
        "#Fonte"
      ],
      "metadata": {
        "id": "vfmujPv2O-3g"
      }
    },
    {
      "cell_type": "markdown",
      "source": [
        "https://www.inf.pucrs.br/~pinho/LaproI/Historico/Historico.htm\n",
        "\n",
        "https://www.bell-labs.com/usr/dmr/www/chistPT.html\n",
        "\n",
        "https://pt.wikipedia.org/wiki/C_(linguagem_de_programa%C3%A7%C3%A3o)"
      ],
      "metadata": {
        "id": "3j9rstB_PI9f"
      }
    }
  ]
}